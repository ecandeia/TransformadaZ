{
 "cells": [
  {
   "cell_type": "markdown",
   "id": "a7118ce5",
   "metadata": {},
   "source": [
    "## Síntese de Sistemas via Transformada z\n",
    "\n",
    "A Transformada $z$ é de um sinal $x(n)$ definida com \n",
    "$$\n",
    "X(z) = \\sum_{n=-\\infty}^{\\infty}x(n)z^{-n}\n",
    "$$\n",
    "\n",
    "Tomemos o exemplo de uma função e sua transformada\n",
    "$$\\alpha^n u(n) \\leftrightarrow \\frac{1}{1 - \\alpha z^{-1}}\\ \\ com\\ |z| >|\\alpha|$$\n",
    "\n",
    "Na função acima podemos atribuir o valor para o pólo $\\alpha$ e com isso definir comportamento de $x(n)$, vejamos alguns exemplos a seguir.\n",
    "\n",
    "1) Se fizermos $\\alpha \\in \\mathbb{R}$, temos que\n",
    "\n",
    "1.1) para $0 < \\alpha < 1$, a amplitude do sinal $x(n) = \\alpha^nu(n)$ decresce a medida que $n$ cresce;\n",
    "\n",
    "1.2) para $\\alpha > 1$, a amplitude de $x(n)$ aumenta;\n",
    "\n",
    "1.3) para $\\alpha = -1$, $x(n)$ é um sinal que oscila.\n",
    "\n",
    "Além disso, para o valor de $\\alpha$ escolhido a função $X(z)$ fica determinada, e com podemos usá-la para obter a Transformada de Fourier, fazendo $X(z)|_{z = e^{j\\omega}}$. Por exemplo, para $\\alpha = 0,1$ temos\n",
    "$$\\frac{1}{1 - 0,1 z^{-1}}\\ \\ com\\ |z| > 0,1\n",
    "$$\n",
    "e\n",
    "$$X(e^{j\\omega}) = X(z)|_{z = e^{j\\omega}} = \\frac{1}{1 - 0,1 e^{-j\\omega}}\n",
    "$$\n",
    "e variando o valor $\\omega$ podemos desenhar $|X(e^{j\\omega)}$ e $\\angle H(e^{j\\omega})$.\n",
    "\n",
    "2) Se fizermos $\\alpha = Ae^{j\\omega}$, temos que\n",
    "2.1) $x(n)$ é um sinal complexo cuja amplitude cresce $A > 1$ ou descresce $A < 1$;\n",
    "\n",
    "3) Escolhendo $p_1 = Ae^{-j\\Omega_1}$ e $p_2 = p_1^*$ e fazendo\n",
    "$$X(z) = \\frac{1}{1 - p_1z^{-1}} + \\frac{1}{1 - p_2z^{-1}}$$\n",
    "que $x(n) = A^nu(n)\\cos\\Omega_1 n$\n",
    "\n",
    "Em todos os casos, conhecemos a expressão de $X(z)$, logo podemos obter a resposta em frequência substituindo $z = e^{j\\Omega}$ na expressão.\n",
    "\n",
    "De forma geral, podemos determinar o comportamento de $x(n)$ e da resposta em frequência $X(e^{j\\Omega})$ pela alocação dos pólos."
   ]
  },
  {
   "cell_type": "code",
   "execution_count": null,
   "id": "5ea69f0e",
   "metadata": {},
   "outputs": [],
   "source": []
  }
 ],
 "metadata": {
  "kernelspec": {
   "display_name": "Python 3 (ipykernel)",
   "language": "python",
   "name": "python3"
  },
  "language_info": {
   "codemirror_mode": {
    "name": "ipython",
    "version": 3
   },
   "file_extension": ".py",
   "mimetype": "text/x-python",
   "name": "python",
   "nbconvert_exporter": "python",
   "pygments_lexer": "ipython3",
   "version": "3.8.2"
  }
 },
 "nbformat": 4,
 "nbformat_minor": 5
}
